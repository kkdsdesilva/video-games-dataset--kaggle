{
 "cells": [
  {
   "cell_type": "code",
   "execution_count": 1,
   "id": "1b251461",
   "metadata": {
    "_cell_guid": "b1076dfc-b9ad-4769-8c92-a6c4dae69d19",
    "_uuid": "8f2839f25d086af736a60e9eeb907d3b93b6e0e5",
    "execution": {
     "iopub.execute_input": "2023-02-19T18:10:57.787195Z",
     "iopub.status.busy": "2023-02-19T18:10:57.785794Z",
     "iopub.status.idle": "2023-02-19T18:10:57.808380Z",
     "shell.execute_reply": "2023-02-19T18:10:57.807467Z"
    },
    "papermill": {
     "duration": 0.035596,
     "end_time": "2023-02-19T18:10:57.812522",
     "exception": false,
     "start_time": "2023-02-19T18:10:57.776926",
     "status": "completed"
    },
    "tags": []
   },
   "outputs": [
    {
     "name": "stdout",
     "output_type": "stream",
     "text": [
      "/kaggle/input/global-video-game-sales-ratings/Tagged-Data-Final.csv\n",
      "/kaggle/input/global-video-game-sales-ratings/Cleaned Data 2.csv\n",
      "/kaggle/input/global-video-game-sales-ratings/Raw Data.csv\n"
     ]
    }
   ],
   "source": [
    "# This Python 3 environment comes with many helpful analytics libraries installed\n",
    "# It is defined by the kaggle/python Docker image: https://github.com/kaggle/docker-python\n",
    "# For example, here's several helpful packages to load\n",
    "\n",
    "import numpy as np # linear algebra\n",
    "import pandas as pd # data processing, CSV file I/O (e.g. pd.read_csv)\n",
    "\n",
    "# Input data files are available in the read-only \"../input/\" directory\n",
    "# For example, running this (by clicking run or pressing Shift+Enter) will list all files under the input directory\n",
    "\n",
    "import os\n",
    "for dirname, _, filenames in os.walk('/kaggle/input'):\n",
    "    for filename in filenames:\n",
    "        print(os.path.join(dirname, filename))\n",
    "\n",
    "# You can write up to 20GB to the current directory (/kaggle/working/) that gets preserved as output when you create a version using \"Save & Run All\" \n",
    "# You can also write temporary files to /kaggle/temp/, but they won't be saved outside of the current session"
   ]
  },
  {
   "cell_type": "code",
   "execution_count": 2,
   "id": "200d5ce2",
   "metadata": {
    "execution": {
     "iopub.execute_input": "2023-02-19T18:10:57.826960Z",
     "iopub.status.busy": "2023-02-19T18:10:57.826100Z",
     "iopub.status.idle": "2023-02-19T18:10:57.932312Z",
     "shell.execute_reply": "2023-02-19T18:10:57.931096Z"
    },
    "papermill": {
     "duration": 0.116671,
     "end_time": "2023-02-19T18:10:57.935442",
     "exception": false,
     "start_time": "2023-02-19T18:10:57.818771",
     "status": "completed"
    },
    "tags": []
   },
   "outputs": [],
   "source": [
    "import pandas as pd\n",
    "games = pd.read_csv('/kaggle/input/global-video-game-sales-ratings/Raw Data.csv')"
   ]
  },
  {
   "cell_type": "code",
   "execution_count": 3,
   "id": "1dc221d3",
   "metadata": {
    "execution": {
     "iopub.execute_input": "2023-02-19T18:10:57.946947Z",
     "iopub.status.busy": "2023-02-19T18:10:57.945615Z",
     "iopub.status.idle": "2023-02-19T18:10:57.965946Z",
     "shell.execute_reply": "2023-02-19T18:10:57.964653Z"
    },
    "papermill": {
     "duration": 0.029186,
     "end_time": "2023-02-19T18:10:57.968976",
     "exception": false,
     "start_time": "2023-02-19T18:10:57.939790",
     "status": "completed"
    },
    "tags": []
   },
   "outputs": [
    {
     "name": "stdout",
     "output_type": "stream",
     "text": [
      "                       Name Platform  Year_of_Release         Genre Publisher  \\\n",
      "0                Wii Sports      Wii           2006.0        Sports  Nintendo   \n",
      "1         Super Mario Bros.      NES           1985.0      Platform  Nintendo   \n",
      "2            Mario Kart Wii      Wii           2008.0        Racing  Nintendo   \n",
      "3         Wii Sports Resort      Wii           2009.0        Sports  Nintendo   \n",
      "4  Pokemon Red/Pokemon Blue       GB           1996.0  Role-Playing  Nintendo   \n",
      "\n",
      "   NA_Sales  EU_Sales  JP_Sales  Other_Sales  Global_Sales  Critic_Score  \\\n",
      "0     41.36     28.96      3.77         8.45         82.53          76.0   \n",
      "1     29.08      3.58      6.81         0.77         40.24           NaN   \n",
      "2     15.68     12.76      3.79         3.29         35.52          82.0   \n",
      "3     15.61     10.93      3.28         2.95         32.77          80.0   \n",
      "4     11.27      8.89     10.22         1.00         31.37           NaN   \n",
      "\n",
      "   Critic_Count User_Score  User_Count Developer Rating  \n",
      "0          51.0          8       322.0  Nintendo      E  \n",
      "1           NaN        NaN         NaN       NaN    NaN  \n",
      "2          73.0        8.3       709.0  Nintendo      E  \n",
      "3          73.0          8       192.0  Nintendo      E  \n",
      "4           NaN        NaN         NaN       NaN    NaN   (16719, 16)\n"
     ]
    }
   ],
   "source": [
    "print(games.head(), games.shape)"
   ]
  },
  {
   "cell_type": "code",
   "execution_count": 4,
   "id": "7ca03a79",
   "metadata": {
    "execution": {
     "iopub.execute_input": "2023-02-19T18:10:57.984495Z",
     "iopub.status.busy": "2023-02-19T18:10:57.983190Z",
     "iopub.status.idle": "2023-02-19T18:10:58.006925Z",
     "shell.execute_reply": "2023-02-19T18:10:58.005842Z"
    },
    "papermill": {
     "duration": 0.037742,
     "end_time": "2023-02-19T18:10:58.011086",
     "exception": false,
     "start_time": "2023-02-19T18:10:57.973344",
     "status": "completed"
    },
    "tags": []
   },
   "outputs": [],
   "source": [
    "games_svy = games.dropna(subset = ['Year_of_Release', 'Global_Sales']).copy()"
   ]
  },
  {
   "cell_type": "code",
   "execution_count": 5,
   "id": "e60e1288",
   "metadata": {
    "execution": {
     "iopub.execute_input": "2023-02-19T18:10:58.025588Z",
     "iopub.status.busy": "2023-02-19T18:10:58.025181Z",
     "iopub.status.idle": "2023-02-19T18:10:58.034256Z",
     "shell.execute_reply": "2023-02-19T18:10:58.033034Z"
    },
    "papermill": {
     "duration": 0.018255,
     "end_time": "2023-02-19T18:10:58.037450",
     "exception": false,
     "start_time": "2023-02-19T18:10:58.019195",
     "status": "completed"
    },
    "tags": []
   },
   "outputs": [],
   "source": [
    "games_svy['Year_of_Release'] = games_svy['Year_of_Release'].astype('int')"
   ]
  },
  {
   "cell_type": "code",
   "execution_count": 6,
   "id": "510b5893",
   "metadata": {
    "execution": {
     "iopub.execute_input": "2023-02-19T18:10:58.052010Z",
     "iopub.status.busy": "2023-02-19T18:10:58.051265Z",
     "iopub.status.idle": "2023-02-19T18:10:58.063155Z",
     "shell.execute_reply": "2023-02-19T18:10:58.062327Z"
    },
    "papermill": {
     "duration": 0.022118,
     "end_time": "2023-02-19T18:10:58.065880",
     "exception": false,
     "start_time": "2023-02-19T18:10:58.043762",
     "status": "completed"
    },
    "tags": []
   },
   "outputs": [],
   "source": [
    "games_svy_new = games_svy.groupby('Year_of_Release', as_index=False).agg({'Global_Sales': 'sum'})"
   ]
  },
  {
   "cell_type": "code",
   "execution_count": 7,
   "id": "0b6af187",
   "metadata": {
    "execution": {
     "iopub.execute_input": "2023-02-19T18:10:58.080262Z",
     "iopub.status.busy": "2023-02-19T18:10:58.079515Z",
     "iopub.status.idle": "2023-02-19T18:10:59.450685Z",
     "shell.execute_reply": "2023-02-19T18:10:59.449547Z"
    },
    "papermill": {
     "duration": 1.381894,
     "end_time": "2023-02-19T18:10:59.453936",
     "exception": false,
     "start_time": "2023-02-19T18:10:58.072042",
     "status": "completed"
    },
    "tags": []
   },
   "outputs": [
    {
     "data": {
      "image/png": "[encoded data removed]",
      "text/plain": [
       "<Figure size 432x288 with 1 Axes>"
      ]
     },
     "metadata": {
      "needs_background": "light"
     },
     "output_type": "display_data"
    }
   ],
   "source": [
    "import matplotlib.pyplot as plt\n",
    "import seaborn as sns\n",
    "\n",
    "sns.lineplot(x='Year_of_Release', y='Global_Sales', data=games_svy_new)\n",
    "plt.xlim([1980, 2015])\n",
    "plt.xlabel('Year')\n",
    "plt.ylabel('Sales')\n",
    "plt.show()"
   ]
  },
  {
   "cell_type": "code",
   "execution_count": 8,
   "id": "75e93036",
   "metadata": {
    "execution": {
     "iopub.execute_input": "2023-02-19T18:10:59.465524Z",
     "iopub.status.busy": "2023-02-19T18:10:59.465097Z",
     "iopub.status.idle": "2023-02-19T18:10:59.477430Z",
     "shell.execute_reply": "2023-02-19T18:10:59.476558Z"
    },
    "papermill": {
     "duration": 0.02077,
     "end_time": "2023-02-19T18:10:59.479857",
     "exception": false,
     "start_time": "2023-02-19T18:10:59.459087",
     "status": "completed"
    },
    "tags": []
   },
   "outputs": [],
   "source": [
    "S_N = {'3DS', 'DS', 'GBA', 'GC', 'Wii', 'WiiU', 'SNES', '3DS', 'N64'}\n",
    "S_P = {'PS', 'PS2', 'PS3', 'PS4', 'PSP', 'PSV'}\n",
    "S_X = {'X360', 'XB', 'XOne'}\n",
    "S_S = {'DC'}\n",
    "#Make new dicts to map Nintendo systemts to 'Nintendo', Playstations systems to 'PlayStaions', etc.\n",
    "d_N = dict.fromkeys(S_N, 'Nintendo') \n",
    "d_P = dict.fromkeys(S_P, 'PlayStation')\n",
    "d_X = dict.fromkeys(S_X, 'XBox')\n",
    "d_S = dict.fromkeys(S_S, 'SEGA')\n",
    "\n",
    "games['Console_Manufacturer'] = games['Platform'].map({**d_N, **d_P, **d_X, **d_S, 'PC':'PC'})"
   ]
  },
  {
   "cell_type": "code",
   "execution_count": 9,
   "id": "1081ac4f",
   "metadata": {
    "execution": {
     "iopub.execute_input": "2023-02-19T18:10:59.490960Z",
     "iopub.status.busy": "2023-02-19T18:10:59.490521Z",
     "iopub.status.idle": "2023-02-19T18:10:59.506102Z",
     "shell.execute_reply": "2023-02-19T18:10:59.504924Z"
    },
    "papermill": {
     "duration": 0.024487,
     "end_time": "2023-02-19T18:10:59.508905",
     "exception": false,
     "start_time": "2023-02-19T18:10:59.484418",
     "status": "completed"
    },
    "tags": []
   },
   "outputs": [],
   "source": [
    "games_cr = games.dropna(subset=['Critic_Score']).copy()"
   ]
  },
  {
   "cell_type": "code",
   "execution_count": 10,
   "id": "86672847",
   "metadata": {
    "execution": {
     "iopub.execute_input": "2023-02-19T18:10:59.519781Z",
     "iopub.status.busy": "2023-02-19T18:10:59.519339Z",
     "iopub.status.idle": "2023-02-19T18:10:59.529494Z",
     "shell.execute_reply": "2023-02-19T18:10:59.528435Z"
    },
    "papermill": {
     "duration": 0.018278,
     "end_time": "2023-02-19T18:10:59.531764",
     "exception": false,
     "start_time": "2023-02-19T18:10:59.513486",
     "status": "completed"
    },
    "tags": []
   },
   "outputs": [],
   "source": [
    "games_mvc = games_cr.groupby('Console_Manufacturer', as_index=False).agg({'Critic_Score': 'mean'}).sort_values('Critic_Score')"
   ]
  },
  {
   "cell_type": "code",
   "execution_count": 11,
   "id": "b2d4f306",
   "metadata": {
    "execution": {
     "iopub.execute_input": "2023-02-19T18:10:59.543279Z",
     "iopub.status.busy": "2023-02-19T18:10:59.542402Z",
     "iopub.status.idle": "2023-02-19T18:10:59.675915Z",
     "shell.execute_reply": "2023-02-19T18:10:59.674782Z"
    },
    "papermill": {
     "duration": 0.142364,
     "end_time": "2023-02-19T18:10:59.678885",
     "exception": false,
     "start_time": "2023-02-19T18:10:59.536521",
     "status": "completed"
    },
    "tags": []
   },
   "outputs": [
    {
     "data": {
      "image/png": "[encoded data removed]",
      "text/plain": [
       "<Figure size 432x288 with 1 Axes>"
      ]
     },
     "metadata": {
      "needs_background": "light"
     },
     "output_type": "display_data"
    }
   ],
   "source": [
    "sns.barplot(x='Console_Manufacturer', y='Critic_Score', data=games_mvc)\n",
    "plt.xlabel('Console')\n",
    "plt.ylabel('Critic Score')\n",
    "plt.show()"
   ]
  },
  {
   "cell_type": "code",
   "execution_count": 12,
   "id": "612b8fcf",
   "metadata": {
    "execution": {
     "iopub.execute_input": "2023-02-19T18:10:59.690296Z",
     "iopub.status.busy": "2023-02-19T18:10:59.689880Z",
     "iopub.status.idle": "2023-02-19T18:10:59.711696Z",
     "shell.execute_reply": "2023-02-19T18:10:59.710642Z"
    },
    "papermill": {
     "duration": 0.030608,
     "end_time": "2023-02-19T18:10:59.714367",
     "exception": false,
     "start_time": "2023-02-19T18:10:59.683759",
     "status": "completed"
    },
    "tags": []
   },
   "outputs": [],
   "source": [
    "games_cr_pub = games_cr.dropna(subset=['Publisher']).copy() #Drop rows with NaN in Publisher column\n",
    "q = games_cr_pub['Publisher'].value_counts() \n",
    "top_publishers = list(q[q>100].index) #Pick the publishers with more than 100 games and put them into a list\n",
    "\n",
    "games_cr_toppub = games_cr_pub[games_cr_pub['Publisher'].isin(top_publishers)] #Subset the rows from top_publishers\n",
    "games_cr_toppub_sorted = games_cr_toppub.groupby('Publisher', as_index=False).agg({'Critic_Score':'mean'}).sort_values('Critic_Score')#Sort by Critic_Score"
   ]
  },
  {
   "cell_type": "code",
   "execution_count": 13,
   "id": "1a2cf581",
   "metadata": {
    "execution": {
     "iopub.execute_input": "2023-02-19T18:10:59.726940Z",
     "iopub.status.busy": "2023-02-19T18:10:59.725574Z",
     "iopub.status.idle": "2023-02-19T18:11:00.029288Z",
     "shell.execute_reply": "2023-02-19T18:11:00.027899Z"
    },
    "papermill": {
     "duration": 0.31278,
     "end_time": "2023-02-19T18:11:00.032063",
     "exception": false,
     "start_time": "2023-02-19T18:10:59.719283",
     "status": "completed"
    },
    "tags": []
   },
   "outputs": [
    {
     "data": {
      "image/png": "[encoded data removed]",
      "text/plain": [
       "<Figure size 432x288 with 1 Axes>"
      ]
     },
     "metadata": {
      "needs_background": "light"
     },
     "output_type": "display_data"
    }
   ],
   "source": [
    "sns.barplot(x='Publisher', y='Critic_Score', data= games_cr_toppub_sorted)\n",
    "plt.xticks(rotation=90)\n",
    "plt.ylabel('Critic Score')\n",
    "plt.show()"
   ]
  }
 ],
 "metadata": {
  "kernelspec": {
   "display_name": "Python 3",
   "language": "python",
   "name": "python3"
  },
  "language_info": {
   "codemirror_mode": {
    "name": "ipython",
    "version": 3
   },
   "file_extension": ".py",
   "mimetype": "text/x-python",
   "name": "python",
   "nbconvert_exporter": "python",
   "pygments_lexer": "ipython3",
   "version": "3.7.12"
  },
  "papermill": {
   "default_parameters": {},
   "duration": 13.279286,
   "end_time": "2023-02-19T18:11:00.862640",
   "environment_variables": {},
   "exception": null,
   "input_path": "__notebook__.ipynb",
   "output_path": "__notebook__.ipynb",
   "parameters": {},
   "start_time": "2023-02-19T18:10:47.583354",
   "version": "2.3.4"
  }
 },
 "nbformat": 4,
 "nbformat_minor": 5
}
